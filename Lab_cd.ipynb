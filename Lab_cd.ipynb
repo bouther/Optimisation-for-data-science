{
  "cells": [
    {
      "cell_type": "markdown",
      "metadata": {
        "id": "9YNWTuSDNfYy"
      },
      "source": [
        "# Short Lab 3 : Proximal/cyclic/greedy coordinate descent\n",
        "\n",
        "#### Authors: A. Gramfort, M. Massias, P. Ablin\n",
        "\n",
        "## Aim\n",
        "\n",
        "The aim of this material is to code \n",
        "- cyclic and greedy coordinate descent for ordinary least squares (OLS)\n",
        "- proximal coordinate descent for sparse Logistic regression\n",
        "\n",
        "## VERY IMPORTANT\n",
        "\n",
        "- This work **must be done by pairs of students**.\n",
        "- **Each** student must send their work **before the 29th of november at 23:59**, using the **moodle platform**.\n",
        "- This means that **each student in the pair sends the same file**\n",
        "- On the moodle, in the \"Optimization for Data Science\" course, you have a \"devoir\" section called **Rendu TP du 23 novembre 2020**. This is where you submit your jupyter notebook file. \n",
        "- The **name of the file must be** constructed as in the next cell\n",
        "\n",
        "# Gentle reminder: no evaluation if you don't respect this EXACTLY\n",
        "\n",
        "### How to construct the name of your file"
      ]
    },
    {
      "cell_type": "code",
      "execution_count": 1,
      "metadata": {
        "colab": {
          "base_uri": "https://localhost:8080/"
        },
        "id": "6JSjAPIfNfY4",
        "outputId": "a000a1f1-1d64-4b89-e230-6584fc8a193b"
      },
      "outputs": [
        {
          "output_type": "stream",
          "name": "stdout",
          "text": [
            "lab3_tabaai_ayoub_and_bouther_oumaima.ipynb\n"
          ]
        }
      ],
      "source": [
        "# Change here using YOUR first and last names\n",
        "fn1 = \"ayoub\"\n",
        "ln1 = \"tabaai\"\n",
        "fn2 = \"oumaima\"\n",
        "ln2 = \"bouther\"\n",
        "\n",
        "filename = \"_\".join(map(lambda s: s.strip().lower(), \n",
        "                        [\"lab3\", ln1, fn1, \"and\", ln2, fn2])) + \".ipynb\"\n",
        "print(filename)"
      ]
    },
    {
      "cell_type": "code",
      "execution_count": 2,
      "metadata": {
        "id": "0XZC6wxwNfY6"
      },
      "outputs": [],
      "source": [
        "import numpy as np\n",
        "from numpy.linalg import norm\n",
        "import matplotlib.pyplot as plt\n",
        "from scipy import linalg\n",
        "import seaborn as sns\n",
        "sns.set()"
      ]
    },
    {
      "cell_type": "code",
      "execution_count": 3,
      "metadata": {
        "id": "KDRsr6piNfY7"
      },
      "outputs": [],
      "source": [
        "# the usual functions:\n",
        "\n",
        "from numpy.random import multivariate_normal\n",
        "from scipy.linalg.special_matrices import toeplitz\n",
        "from numpy.random import randn\n",
        "\n",
        "\n",
        "def simu(coefs, n_samples=1000, corr=0.5, for_logreg=False):\n",
        "    n_features = len(coefs)\n",
        "    cov = toeplitz(corr ** np.arange(0, n_features))\n",
        "    A = multivariate_normal(np.zeros(n_features), cov, size=n_samples)\n",
        "    b = A.dot(coefs) + randn(n_samples)\n",
        "    if for_logreg:\n",
        "        b = np.sign(b)\n",
        "    return A, b"
      ]
    },
    {
      "cell_type": "markdown",
      "metadata": {
        "id": "rZmgrJZ0NfY8"
      },
      "source": [
        "## Part 1: Ordinary Least Squares\n",
        "\n",
        "\n",
        "Let $A \\in \\mathbb{R}^{n \\times p}$, $y \\in \\mathbb{R}^n$.\n",
        "We want to use coordinate descent to solve:\n",
        "    $$\\hat w \\in  \\mathrm{arg \\, min \\,} \\frac 12 \\Vert Aw - b \\Vert ^2 $$\n",
        "\n",
        "\n",
        "<div class=\"alert alert-success\">\n",
        "    <b>QUESTION 1:</b> We ask you to code\n",
        "     <ul>\n",
        "         <li>cyclic coordinate descent: at iteration $t$, update feature $j = t \\mod p$</li>\n",
        "         <li>greedy coordinate descent: at iteration $t$, update feature having the largest partial gradient in magnitude, ie $j = \\mathrm{arg\\, max \\,}_{i} \\vert \\nabla_i f(w_t) \\vert$.\n",
        "</li>\n",
        "    </ul>\n",
        "</div>\n",
        "\n",
        "**WARNING**: You must do this in a clever way, ie such that $p$ updates cost the same as one update of GD."
      ]
    },
    {
      "cell_type": "code",
      "execution_count": 4,
      "metadata": {
        "id": "Ya5Ft6mKNfY9"
      },
      "outputs": [],
      "source": [
        "n_features = 100\n",
        "np.random.seed(1970)\n",
        "coefs = np.random.randn(n_features)\n",
        "\n",
        "A, b = simu(coefs, n_samples=1000, for_logreg=False)"
      ]
    },
    {
      "cell_type": "code",
      "execution_count": 5,
      "metadata": {
        "id": "l-T0QRECNfY9"
      },
      "outputs": [],
      "source": [
        "def cyclic_cd(A, b, n_iter):\n",
        "    n_samples, n_features = A.shape\n",
        "    all_objs = []\n",
        "    \n",
        "    w = np.zeros(n_features)\n",
        "    residuals = b - A.dot(w)\n",
        "    \n",
        "    # TODO\n",
        "    lips_const = np.linalg.norm(A, axis=0) ** 2\n",
        "    # END TODO\n",
        "    \n",
        "    for t in range(n_iter):\n",
        "        j = t % n_features\n",
        "        # TODO\n",
        "        old_w_j = w[j]\n",
        "        w[j] += A[:,j].dot(residuals) / lips_const[j]\n",
        "        # update residuals:\n",
        "        residuals += A[:,j]*old_w_j - A[:,j]*w[j]\n",
        "        # END TODO\n",
        "        \n",
        "        if t % n_features == 0:\n",
        "            all_objs.append((residuals ** 2).sum() / 2.)\n",
        "    return w, np.array(all_objs)\n",
        "\n",
        "\n",
        "\n",
        "def greedy_cd(A, b, n_iter):\n",
        "    n_samples, n_features = A.shape\n",
        "    all_objs = []\n",
        "    \n",
        "    w = np.zeros(n_features)\n",
        "    \n",
        "    gradient = A.T.dot(A.dot(w) - b)\n",
        "    gram = A.T.dot(A)  # you will need this to keep the gradient up to date\n",
        "    \n",
        "    # TODO\n",
        "    lips_const = np.sum(A * A, axis=0)\n",
        "    # END TODO \n",
        "    \n",
        "    for t in range(n_iter):\n",
        "        # TODO\n",
        "        # choose feature j to update: \n",
        "        j = np.argmax(abs(gradient))\n",
        "        old_w_j  = w[j]\n",
        "        w[j] -= gradient[j]/lips_const[j]\n",
        "        # update gradient:\n",
        "        gradient += gram[:,j] * w[j] - gram[:,j] * old_w_j\n",
        "        # END TODO\n",
        "        \n",
        "        if t % n_features == 0:\n",
        "            all_objs.append(0.5 * np.linalg.norm(A.dot(w) - b) ** 2)\n",
        "    \n",
        "    return w, np.array(all_objs)"
      ]
    },
    {
      "cell_type": "markdown",
      "metadata": {
        "id": "-StLJT4aNfY_"
      },
      "source": [
        "<div class=\"alert alert-success\">\n",
        "    <b>QUESTION 2:</b>\n",
        "     <ul>\n",
        "         <li>Compute a precise minimum with your favorite solver</li>\n",
        "         <li>Compare the performance of cyclic and greedy CD as function of iterations.</li>\n",
        "         <li>From a practical point of view, could you use greedy CD for L2 regularized logistic regression? to solve OLS, but with 100,000 features? Explain your answers.</li>\n",
        "    </ul>\n",
        "</div>\n",
        "\n",
        "**Remark:** You will do the plots using the number of iterations on the x-axis and not time as your code is likely to be slow unless you use [numba](https://numba.pydata.org/)."
      ]
    },
    {
      "cell_type": "code",
      "execution_count": 6,
      "metadata": {
        "id": "DrpGeSu-NfY_"
      },
      "outputs": [],
      "source": [
        "# To compute a precise minimum of the prblem we will use the scipy.solve \n",
        "w_min = linalg.solve(np.dot(A.T, A), np.dot(A.T, b))"
      ]
    },
    {
      "cell_type": "code",
      "source": [
        "import time\n",
        "n_iter = 10000\n",
        "start_time = time.time()\n",
        "w_cd , obj_cd  = cyclic_cd(A,b,n_iter)\n",
        "print(\" cyclic {} seconds \".format((time.time() - start_time)))\n",
        "start_time = time.time()\n",
        "w_gcd , obj_gcd  = greedy_cd(A,b,n_iter)\n",
        "print(\" greedy {} seconds \".format((time.time() - start_time)))"
      ],
      "metadata": {
        "colab": {
          "base_uri": "https://localhost:8080/"
        },
        "id": "sqoAlqw25iVK",
        "outputId": "acd109bb-c549-404c-84d9-27759bd9fcc5"
      },
      "execution_count": 7,
      "outputs": [
        {
          "output_type": "stream",
          "name": "stdout",
          "text": [
            " cyclic 0.21087288856506348 seconds \n",
            " greedy 0.196943998336792 seconds \n"
          ]
        }
      ]
    },
    {
      "cell_type": "code",
      "source": [
        "#Let's plot the objective value for greedy_CD and cyclic_CD\n",
        "print('The objective function for the cyclic CD is:{:.2f}'.format(obj_cd[-1]))\n",
        "print('The objective function for the greedy CD is:{:.2f}'.format(obj_gcd[-1]))\n",
        "\n",
        "plt.figure(figsize=(10,6))\n",
        "plt.plot(obj_cd  , 'g', label=\"Cyclic_CD\")\n",
        "plt.plot(obj_gcd , 'r',label=\"Greedy_CD\")\n",
        "plt.xlabel('iteration')\n",
        "plt.ylabel('Loss value')\n",
        "plt.title('The Loss evolution comparison between the cyclic and the greedy CD')\n",
        "plt.legend()\n",
        "plt.show()"
      ],
      "metadata": {
        "colab": {
          "base_uri": "https://localhost:8080/",
          "height": 445
        },
        "id": "CsrRI7OD5iau",
        "outputId": "c30ed307-2ae4-4d84-b20f-eeb86582be0f"
      },
      "execution_count": 8,
      "outputs": [
        {
          "output_type": "stream",
          "name": "stdout",
          "text": [
            "The objective function for the cyclic CD is:466.38\n",
            "The objective function for the greedy CD is:466.38\n"
          ]
        },
        {
          "output_type": "display_data",
          "data": {
            "image/png": "[encoded data removed]",
            "text/plain": [
              "<Figure size 720x432 with 1 Axes>"
            ]
          },
          "metadata": {}
        }
      ]
    },
    {
      "cell_type": "code",
      "source": [
        "#distance to the minimizer obtained with scipy solver \n",
        "\n",
        "print (\"error for cyclic CD : \"+ str(norm(w_cd-w_min, ord=2)))\n",
        "print (\"error for greedy CD : \"+ str(norm(w_gcd-w_min, ord=2)))"
      ],
      "metadata": {
        "colab": {
          "base_uri": "https://localhost:8080/"
        },
        "id": "t7orrwCk7gvS",
        "outputId": "ea602093-ba5c-45f2-8703-bf87c4212d0e"
      },
      "execution_count": 9,
      "outputs": [
        {
          "output_type": "stream",
          "name": "stdout",
          "text": [
            "error for cyclic CD : 1.4514605841808855e-14\n",
            "error for greedy CD : 1.0333356683632903e-14\n"
          ]
        }
      ]
    },
    {
      "cell_type": "markdown",
      "source": [
        "$\\bullet$ **Comparison** : As we notice, greedy cd takes more time to make the same number of iterations as cyclic cd and this is due to more computation done by the greedy cd that computes the whole gradient and then compare its elements to choose the best direction. The objective continue to decrease for both cyclic and greedy CD algorithms to reach at the end the same value of 466.38. after 10000 iteration, the distances of the final minimizers gotten by the cyclic and the greedy algorithms from the minimzers given by the scipy solver are respectively $1.45\\;10^{-14}$ and $10^{-14}$. This prove that the greedy algorithms outperforms the cyclic algorithm. This can be explained by the method of the selection of the variable that the greedy algorithm relies on. Instead of choosing in order at random or in order the components, the greedy algorithm selects a good coordinate that yields to a better reduction of the objective function, and this selection is based on the magnitude of the gradient components. Since we select the best component, this implies that at each iteration the greedy cd reduce the objective function more that the cyclic cd. This also explain why at the same number of iteration teh greedy cd take more time than the cyclic cd, where the greedy shoudl compute the whole gradient and compare all the components which takes more time.\n",
        "\n",
        "$\\bullet$**greedy CD for L2 regularized logistic regression**: For greedy cd, we shoud at each time compute the whole gradient and compare between its components which is time consuming. In the case of L2 regularized logistic regression we try to reduce the parameters but doesn't produce the sparcity which helps to reduce the number of variables and ,so, reducing the variable space dimension. Consequently, the greedy cd for the L2 regularized logistic regression would not be as efficient as the L1 regularized logistic regression.\n",
        "\n",
        "$\\bullet$**OLS with 100,000 features**: To run the greedy cd, we compute the whole gradient and compare them to pick the greater. With a such number of variable this will be inefficient and it would take a large time to make each iteration. Even if we omit the gradient computation, the comparison between 100,000 variables would be expensive."
      ],
      "metadata": {
        "id": "g_fmA-g7t4uo"
      }
    },
    {
      "cell_type": "markdown",
      "metadata": {
        "id": "tfq3vnvCNfZA"
      },
      "source": [
        "## Part 2: Sparse Logistic regression"
      ]
    },
    {
      "cell_type": "markdown",
      "metadata": {
        "id": "NlzKhaHdNfZB"
      },
      "source": [
        "### An important result\n",
        "\n",
        "Remember: we are solving \n",
        "$$\\hat w \\in \\mathrm{arg \\, min} \\sum_{i=1}^{n} \\mathrm{log} ( 1 + e^{- y_i w^\\top x_i} )  + \\lambda \\Vert w \\Vert_1$$\n",
        "\n",
        "<div class=\"alert alert-success\">\n",
        "    <b>QUESTION 3:</b><br/>\n",
        "    Assuming uniqueness of the solution, show that: $\\lambda \\geq \\lambda_{max} \\Leftrightarrow \\hat w = 0$\n",
        "where $\\lambda_{max} := \\frac 12 \\Vert X^\\top y \\Vert_{\\infty}$.\n",
        "</div>\n",
        "\n",
        "**HINT:** You will need the following beautiful result: for any $w =(w_1, \\dots, w_p) \\in \\mathbb{R}^p$, the subdifferential of the L1 norm at $w$ is:\n",
        "\n",
        "$$\\partial \\Vert \\cdot \\Vert_1 (w) = \\partial \\vert \\cdot \\vert (w_1)  \\times \\dots \\times \\partial \\vert \\cdot \\vert (w_p) $$\n",
        "where $\\times$ is the Cartesian product between sets,\n",
        "and $$ \\partial \\vert \\cdot \\vert (w_j) = \n",
        "\\begin{cases} &w_j / |w_j| &\\mathrm{if} \\quad w_j \\neq 0, \n",
        "         \\\\ & [-1, 1] &\\mathrm{otherwise.} \n",
        "\\end{cases}\n",
        "$$\n",
        "\n",
        "\n",
        "(it should now be easy to find $\\partial \\Vert \\cdot \\Vert_1 (\\mathbf{0}_p)$)"
      ]
    },
    {
      "cell_type": "markdown",
      "metadata": {
        "id": "lXdwdy8INfZC"
      },
      "source": [
        "**Answer**:\n",
        "For all funtions f and g we have : $\\partial(f+g)(\\omega) = \\partial f(\\omega) +\\partial g(\\omega)$.\n",
        "\n",
        "Let $$f(w) = \\sum_{i=1}^{n} \\mathrm{log} ( 1 + e^{- y_i w^\\top x_i} )  + \\lambda \\Vert w \\Vert_1$$\n",
        "First, let's compute the subdifferential of $f$. $f$ is differentiable which implies that it's subdifferential is exactly its gradient.\n",
        "\n",
        "Therefore, \n",
        "$$ \\partial f(w) = \\sum_{i=1}^{n} \\frac{-y_ix_i}{1 + e^{y_i w^\\top x_i}} + \\lambda \\partial \\Vert \\cdot \\Vert_1 (w)$$\n",
        "\n",
        "Using the beautiful above result, we get : $$\\partial \\Vert \\cdot \\Vert_1 (0_p)  = \n",
        "\\partial \\vert \\cdot \\vert_1 (0) \\times ... \\times \\partial \\vert \\cdot \\vert_1 (0) = [-1,1]^p$$\n",
        "\n",
        "Thus, $$ \\partial f(0_p) = -\\frac 12 \\sum_{i=1}^{n} y_ix_i + [-\\lambda,\\lambda]^p $$\n",
        "\n",
        "Also, we can see that $-\\frac 12 \\sum_{i=1}^{n} y_ix_i = -\\frac 12 X^\\top y$\n",
        "\n",
        "Let $\\frac{1}{2} X^\\top y = (a_1,...,a_p)$. By definition $\\frac 12 \\Vert X^\\top y\\Vert_\\infty = \\max_{i}(\\vert a_i \\vert)$ \n",
        "\n",
        "Therefore, \n",
        "\\begin{align}\n",
        "\\lambda \\geq \\lambda_{max} & \\implies \\forall i,\\; \\lambda \\geq |a_i|  \\\\\n",
        "& \\implies \\forall i,\\; \\lambda \\geq a_i \\geq -\\lambda \\\\\n",
        " & \\implies -\\frac 12 X^\\top y \\in [-\\lambda, \\lambda]^p\\\\\n",
        " & \\implies 0_p \\in \\partial f(0_p)\n",
        "\\end{align}\n",
        "We have $f$ is a sum of convex functions, then it is convex. By this we have proved that $0_p \\in \\partial f(0_p))$ and $f$ is convex.\n",
        "\n",
        "Then, 0 is a global minimizer of $f$. Also, by uniqueness, we get : $\\hat w = 0$ "
      ]
    },
    {
      "cell_type": "markdown",
      "metadata": {
        "id": "Mw6Iv1CfNfZC"
      },
      "source": [
        "<div class=\"alert alert-success\">\n",
        "    <b>QUESTION 4:</b><br/>\n",
        "    Show that for sparse Logistic regression the coordinate-wise Lipschitz constant of the smooth term, $\\gamma_j$, can be taken equal to $\\Vert X_j \\Vert^2 / 4$, where $X_j$ denotes the $j$-th column of $X$.\n",
        "</div>"
      ]
    },
    {
      "cell_type": "markdown",
      "metadata": {
        "id": "GrrOtM6-NfZD"
      },
      "source": [
        "**Answer**: The smooth term here is given by the following function : $$ f(w) = \\sum_{i=1}^{n} \\mathrm{log} ( 1 + e^{- y_i w^\\top x_i} ) $$\n",
        "\n",
        "Let's define first what is the coordinate-wise Lipschitz constant of the smooth term $\\gamma_j$.\n",
        "\n",
        "Let\n",
        "\\begin{align*} \n",
        "  g_{j,w}:\\mathbb{R} & \\to \\mathbb R \\\\\n",
        "  h & \\to f(w+U_jh) = f(w_1,...,w_j + h,...,w_p)\n",
        "\\end{align*}\n",
        "By definition, $L_j = L(\\nabla g_{j,w})$ and $\\gamma_j = 1/L_j$ \n",
        "\n",
        "We have $\\nabla g_{j,w} =\\frac{\\partial f}{\\partial w_j} =  \\sum_{i=1}^{n} \\frac{-y_ix_{ij}}{1 + e^{y_iw^\\top xi}}$.\n",
        "\n",
        "Now to find $L_j$ we can compute the second derivative of $g_{j,w}$ and find an upper bound of it which would be our $L_j$.\n",
        "\n",
        "We have $g_{j,w}$ depends only on the jth element of $w$. Therefore, \n",
        "$$\\nabla^2 g_{j,w} = \\frac{\\partial^2 f}{\\partial w_j^2} = \\sum_{i=1}^{n} \\frac{x_{ij}^2(e^{y_iw^\\top xi})}{(1 + e^{y_iw^\\top xi})^2}$$\n",
        "\n",
        "Let $z_i(w) = \\frac{1}{1 + e^{y_iw^\\top xi}} \\in ]0,1[$.\n",
        "\n",
        "We have $$\\nabla^2 g_{j,w} = \\sum_{i=1}^{n}x_{ij}^2 z_i(w)(1 - z_i(w))$$\n",
        "\n",
        "We know that $\\forall x \\in [0,1],\\; x(1 - x) \\leq \\frac 14 \\implies  \\; z_i(w)(1 - z_i(w)) \\leq \\frac 14 \\;\\;\\; \\forall i,w$\n",
        "\n",
        "Therfore, $$ \\nabla^2 g_{j,w} \\leq \\frac 14 \\sum_{i=1}^{n}x_{ij}^2 = \\frac 14 \\Vert X_j \\Vert ^2$$\n",
        "\n",
        "\n",
        "Thus , $\\gamma_j = 4/\\Vert X_j \\Vert ^2$."
      ]
    },
    {
      "cell_type": "markdown",
      "metadata": {
        "id": "g245F8wVNfZE"
      },
      "source": [
        "<div class=\"alert alert-success\">\n",
        "    <b>QUESTION 5:</b><br/>\n",
        "    Code cyclic proximal coordinate descent for sparse Logistic regression:\n",
        "</div>\n",
        "\n",
        "**WARNING**: the Lasso means linear regression (quadratic fitting term) with L1 penalty. Sparse logistic regression means logistic regression with L1 penalty."
      ]
    },
    {
      "cell_type": "code",
      "execution_count": 10,
      "metadata": {
        "id": "z0Am08RtNfZE"
      },
      "outputs": [],
      "source": [
        "X, y = simu(coefs, n_samples=1000, for_logreg=True)\n",
        "lambda_max = norm(X.T.dot(y), ord= np.inf) / 2.\n",
        "lamb = lambda_max / 20.  \n",
        "# much easier to parametrize lambda as a function of lambda_max than \n",
        "# to take random values like 0.1 in previous Labs\n",
        "\n",
        "\n",
        "def sigmoid(t):\n",
        "    \"\"\"Sigmoid function\"\"\"\n",
        "    return 1. / (1. + np.exp(-t))\n",
        "\n",
        "\n",
        "def soft_thresh(x, u):\n",
        "    \"\"\"Soft thresholding of x at level u\"\"\"\n",
        "    return np.sign(x) * np.maximum(0., np.abs(x) - u)\n",
        "\n",
        "\n",
        "def cd_logreg(X, y, lamb, n_iter):\n",
        "    n_samples, n_features = X.shape\n",
        "    w = np.zeros(n_features)\n",
        "    Xw = X.dot(w)\n",
        "    all_objs = np.zeros(n_iter)\n",
        "\n",
        "    # TODO\n",
        "    lips_const = [norm(X[:,i] , ord=2)**2 / 4 for i in range(n_features)]\n",
        "    # END TODO\n",
        "    \n",
        "    for t in range(n_iter):\n",
        "        for j in range(n_features):\n",
        "            old_w_j = w[j]\n",
        "            # TODO\n",
        "            grad_j = -sum([y[i] * X[i,j] * sigmoid(-y[i]*Xw[i]) for i in range(n_samples)]) \n",
        "            w[j] = soft_thresh(old_w_j - grad_j/lips_const[j], lamb/lips_const[j])\n",
        "            \n",
        "            if old_w_j != w[j]:\n",
        "              Xw += w[j] * X[:,j] - old_w_j * X[:,j] \n",
        "            #END TODO\n",
        "            \n",
        "        all_objs[t] = np.log(1. + np.exp(-y * Xw)).sum() + lamb * norm(w, ord=1)\n",
        "    \n",
        "    return w, all_objs"
      ]
    },
    {
      "cell_type": "markdown",
      "metadata": {
        "id": "Vctag6t6NfZF"
      },
      "source": [
        "# Part 3: Real data\n",
        "\n",
        "We will compare vanilla cyclic CD and ISTA to solve the Lasso on a real dataset, called _leukemia_."
      ]
    },
    {
      "cell_type": "code",
      "execution_count": 11,
      "metadata": {
        "id": "efA9lCkONfZF"
      },
      "outputs": [],
      "source": [
        "from sklearn.datasets import fetch_openml\n",
        "\n",
        "leuk = fetch_openml(\"leukemia\")\n",
        "\n",
        "X = np.asfortranarray(leuk.data)\n",
        "y = np.ones(leuk.target.shape)\n",
        "y[leuk.target == leuk.target[0]] = -1."
      ]
    },
    {
      "cell_type": "code",
      "execution_count": 12,
      "metadata": {
        "colab": {
          "base_uri": "https://localhost:8080/"
        },
        "id": "cwDmYKIDNfZG",
        "outputId": "85d85eb4-bd36-4239-c613-a5bcaa7b3ed1"
      },
      "outputs": [
        {
          "output_type": "stream",
          "name": "stdout",
          "text": [
            "(72, 7129)\n"
          ]
        }
      ],
      "source": [
        "print(X.shape)\n",
        "\n",
        "lambda_max_lasso = norm(X.T.dot(y), ord=np.inf)\n",
        "lambd = lambda_max_lasso / 5."
      ]
    },
    {
      "cell_type": "markdown",
      "metadata": {
        "id": "LinofUzjNfZG"
      },
      "source": [
        "<div class=\"alert alert-success\">\n",
        "    <b>QUESTION 6:</b> Code\n",
        "    <ul>\n",
        "        <li>a simple proximal gradient solver for the Lasso</li>\n",
        "        <li>a prox CD solver for the Lasso and compare them on this dataset.</li>\n",
        "    </ul>\n",
        "</div>\n",
        "\n",
        "**Remark:** Do the plots in terms of epochs, not updates (to be fair to CD)."
      ]
    },
    {
      "cell_type": "code",
      "execution_count": 13,
      "metadata": {
        "id": "7NlzFFf3NfZG"
      },
      "outputs": [],
      "source": [
        "#In this part we will use some materials from the first lab to implement the ISTA algorithm.   \n",
        "\n",
        "def prox_L1(x, lmbd):\n",
        "    \"\"\"Proximal operator for the L1 at x\"\"\" \n",
        "    a = np.sign(x)*np.maximum(np.abs(x)-lmbd, 0)\n",
        "    return a # TODO\n",
        "    \n",
        "def L1_norm(x, lmbd):\n",
        "    \"\"\"Value of the L1 penalization at x\"\"\"\n",
        "    return lmbd*np.sum(np.abs(x)) # TODO\n",
        "\n",
        "def loss_logreg(x):\n",
        "    \"\"\"Logistic loss\"\"\"\n",
        "    # TODO\n",
        "    n = X.shape[0]\n",
        "    return sum([np.log(1 + np.exp(-y[i]*np.dot(X[i],x))) for i in range(n)])\n",
        "\n",
        "def grad_logreg(x):\n",
        "    \"\"\"Logistic gradient\"\"\"\n",
        "    # TODO\n",
        "    return -sum([y[i] * X[i,:] * sigmoid(-y[i]*X[i].dot(x)) for i in range(X.shape[0])]) \n",
        "\n",
        "def smoothness_const_loreg(A):\n",
        "    \"\"\"Lipschitz constant for logistic loss\"\"\"    \n",
        "    # TODO\n",
        "    L = 1/4*(np.linalg.norm(A,2)**2)\n",
        "    return L\n",
        "    \n",
        "def PGD(x0, f, grad_f, R, prox_R, step, lmbd=0., n_iter=50, verbose=True):\n",
        "    \"\"\"Proximal gradient descent algorithm\n",
        "    \"\"\"\n",
        "    x = x0.copy()\n",
        "    x_new = x0.copy()\n",
        "    n_samples, n_features = X.shape\n",
        "\n",
        "    # objective history\n",
        "    objectives = []\n",
        "    # Current objective\n",
        "    obj = f(x) + R(x, lmbd)\n",
        "    objectives.append(obj)\n",
        "    if verbose:\n",
        "        print(\"Lauching PGDsolver...\")\n",
        "        print(' | '.join([name.center(8) for name in [\"it\", \"obj\"]]))\n",
        "    for k in range(n_iter + 1):\n",
        "\n",
        "        #### TODO #### \n",
        "        x = prox_R(x - step*grad_f(x),lmbd*step)      \n",
        "        obj = f(x) + R(x, lmbd)\n",
        "        objectives.append(obj)\n",
        "        if k % 10000 == 0 and verbose:\n",
        "            print(' | '.join([(\"%d\" % k).rjust(8), (\"%.2e\" % obj).rjust(8)]))\n",
        "    return x, objectives"
      ]
    },
    {
      "cell_type": "code",
      "source": [
        "# ISTA results\n",
        "n_iter = 10\n",
        "n_sample, n_feature = X.shape\n",
        "x0 = np.zeros(n_feature)\n",
        "w_min_ista, obj_ista = PGD(x0, loss_logreg, grad_logreg, L1_norm, prox_L1, 1/smoothness_const_loreg(X), lmbd=lambd, n_iter=n_iter*n_feature, verbose=True)"
      ],
      "metadata": {
        "colab": {
          "base_uri": "https://localhost:8080/"
        },
        "id": "pXvICGfUe9n4",
        "outputId": "26c9349c-ea88-49b6-f337-c8b733af4d47"
      },
      "execution_count": 14,
      "outputs": [
        {
          "output_type": "stream",
          "name": "stdout",
          "text": [
            "Lauching PGDsolver...\n",
            "   it    |   obj   \n",
            "       0 | 4.93e+01\n",
            "   10000 | 4.82e+01\n",
            "   20000 | 4.82e+01\n",
            "   30000 | 4.82e+01\n",
            "   40000 | 4.82e+01\n",
            "   50000 | 4.82e+01\n",
            "   60000 | 4.82e+01\n",
            "   70000 | 4.82e+01\n"
          ]
        }
      ]
    },
    {
      "cell_type": "code",
      "source": [
        "# Proximal coordinate descent results \n",
        "w_prox_cd, obj_prox_cd = cd_logreg(X, y, lambd, n_iter)"
      ],
      "metadata": {
        "id": "Jsn3cT372VNb"
      },
      "execution_count": 15,
      "outputs": []
    },
    {
      "cell_type": "code",
      "source": [
        "# comparing the performances of proximal coordinate and ista\n",
        "prox_obj = [norm(obj-obj_prox_cd[-1] ) for obj in obj_prox_cd]\n",
        "ista_obj = [norm(obj-obj_prox_cd[-1] ) for obj in obj_ista[::n_feature]]\n",
        "\n",
        "plt.figure(figsize=(14,8))\n",
        "plt.semilogy(ista_obj, 'r*-', label=\"ISTA\")\n",
        "plt.semilogy(prox_obj, 'o-',label=\"prox CD\")\n",
        "plt.title('distance to the minimum for ISTA and proximal CD')\n",
        "plt.xlabel('Epochs')\n",
        "plt.ylabel('Loss function')\n",
        "\n",
        "plt.legend()\n",
        "plt.show()"
      ],
      "metadata": {
        "colab": {
          "base_uri": "https://localhost:8080/",
          "height": 518
        },
        "id": "tDYF5lk9siZL",
        "outputId": "aae69584-960f-45e7-ead7-7dd8b5374df4"
      },
      "execution_count": 16,
      "outputs": [
        {
          "output_type": "display_data",
          "data": {
            "image/png": "[encoded data removed]",
            "text/plain": [
              "<Figure size 1008x576 with 1 Axes>"
            ]
          },
          "metadata": {}
        }
      ]
    },
    {
      "cell_type": "code",
      "source": [
        ""
      ],
      "metadata": {
        "id": "3IaxOJEKMW7p"
      },
      "execution_count": 16,
      "outputs": []
    }
  ],
  "metadata": {
    "anaconda-cloud": {},
    "kernelspec": {
      "display_name": "Python 3",
      "language": "python",
      "name": "python3"
    },
    "language_info": {
      "codemirror_mode": {
        "name": "ipython",
        "version": 3
      },
      "file_extension": ".py",
      "mimetype": "text/x-python",
      "name": "python",
      "nbconvert_exporter": "python",
      "pygments_lexer": "ipython3",
      "version": "3.8.6"
    },
    "colab": {
      "name": "Lab_cd.ipynb",
      "provenance": [],
      "collapsed_sections": []
    }
  },
  "nbformat": 4,
  "nbformat_minor": 0
}